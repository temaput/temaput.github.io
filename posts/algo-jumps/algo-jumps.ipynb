{
 "cells": [
  {
   "cell_type": "markdown",
   "metadata": {},
   "source": [
    "---\n",
    "title: \"Solving random LeetCode problems\"\n",
    "subtitle: \"Jumps Game\"\n",
    "author: \"Artem Putilov\"\n",
    "date: \"2023-03-29\"\n",
    "categories: [python, algo,]\n",
    "image: \"image.jpeg\"\n",
    "---"
   ]
  },
  {
   "attachments": {},
   "cell_type": "markdown",
   "metadata": {},
   "source": [
    "# Jumps Game \n",
    "Given an array of integers arr, you are initially positioned at the first index of the array.\n",
    "\n",
    "In one step you can jump from index i to index:\n",
    "\n",
    "i + 1 where: i + 1 < arr.length.\n",
    "i - 1 where: i - 1 >= 0.\n",
    "j where: arr[i] == arr[j] and i != j.\n",
    "Return the minimum number of steps to reach the last index of the array.\n",
    "\n",
    "Notice that you can not jump outside of the array at any time.\n",
    "\n",
    " \n",
    "\n",
    "Example 1:\n",
    "\n",
    "Input: arr = [100,-23,-23,404,100,23,23,23,3,404]\n",
    "Output: 3\n",
    "Explanation: You need three jumps from index 0 --> 4 --> 3 --> 9. Note that index 9 is the last index of the array.\n"
   ]
  },
  {
   "attachments": {},
   "cell_type": "markdown",
   "metadata": {},
   "source": [
    "## BFS Solution\n",
    "\n",
    "BFS seems like a straghtforward way to do it since we are searching for the shortest way in the graph. We will require:\n",
    "- a function that pickes next steps based on the roles (back, forward, jump)\n",
    "- for picking where to jump we will use a mapping from values into their positions int -> [int]\n",
    "- a simple que of next steps\n",
    "- in order to avoid cycles we need another hash of visited positions we will also use it to retrace our steps\n"
   ]
  },
  {
   "cell_type": "code",
   "execution_count": 8,
   "metadata": {},
   "outputs": [],
   "source": [
    "from typing import List, Dict, Set, Deque\n",
    "from collections import deque\n",
    "\n",
    "\n",
    "class Solution:\n",
    "\n",
    "    m: Dict[int, List[int]]\n",
    "    q: Deque[int]\n",
    "    distances: Dict[int, int]\n",
    "    arr: List[int]\n",
    "\n",
    "    def __init__(self):\n",
    "        self.m = dict()\n",
    "        self.q = deque()\n",
    "        self.distances = dict()\n",
    "\n",
    "    def minJumps(self, arr: List[int]) -> int:\n",
    "        # edge cases\n",
    "        if len(arr) < 3:\n",
    "            return len(arr) - 1\n",
    "        self.arr = arr\n",
    "        self.buildM()\n",
    "        result = self.pickNext(0)\n",
    "        while len(self.q) > 0:\n",
    "            if result is not None:\n",
    "                break\n",
    "            position = self.q.popleft()\n",
    "            result = self.pickNext(position)\n",
    "        return result if result is not None else 0\n",
    "\n",
    "    def compressInput(self, arr: List[int]) -> List[int]:\n",
    "        result = [arr[0]]\n",
    "        for i in range(1, len(arr)-1):\n",
    "            if arr[i] != arr[i-1] or arr[i] != arr[i+1]:\n",
    "                result.append(arr[i])\n",
    "        result.append(arr[-1])\n",
    "        return result\n",
    "\n",
    "    def buildM(self):\n",
    "        for (i, x) in enumerate(self.arr):\n",
    "            ml = self.m.setdefault(x, [])\n",
    "            ml.append(i)\n",
    "\n",
    "    def pickNext(self, pos: int) -> None | int:\n",
    "\n",
    "        ml = reversed(self.m.get(self.arr[pos], []))\n",
    "        self.m[self.arr[pos]] = []\n",
    "        distance = self.distances.get(pos,0)\n",
    "\n",
    "        nearest = []\n",
    "        if pos < len(self.arr) - 1:\n",
    "            nearest.append(pos + 1)\n",
    "        if pos > 0:\n",
    "            nearest.append(pos - 1)\n",
    "\n",
    "        for t in [ml, nearest]:\n",
    "            for p in t:\n",
    "                if p not in self.distances:\n",
    "                    if p >= len(self.arr) - 1:\n",
    "                        return distance + len(self.arr) - p \n",
    "                    self.q.append(p)\n",
    "                    self.distances[p] = distance + 1"
   ]
  }
 ],
 "metadata": {
  "kernelspec": {
   "display_name": "Python 3",
   "language": "python",
   "name": "python3"
  },
  "language_info": {
   "codemirror_mode": {
    "name": "ipython",
    "version": 3
   },
   "file_extension": ".py",
   "mimetype": "text/x-python",
   "name": "python",
   "nbconvert_exporter": "python",
   "pygments_lexer": "ipython3",
   "version": "3.11.1"
  },
  "orig_nbformat": 4,
  "vscode": {
   "interpreter": {
    "hash": "aee8b7b246df8f9039afb4144a1f6fd8d2ca17a180786b69acc140d282b71a49"
   }
  }
 },
 "nbformat": 4,
 "nbformat_minor": 2
}
